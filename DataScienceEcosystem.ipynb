{
 "cells": [
  {
   "cell_type": "markdown",
   "id": "123740f5-3458-44cd-adfe-b76e84fc026f",
   "metadata": {},
   "source": [
    "# Data Science Tools and Ecosystem"
   ]
  },
  {
   "cell_type": "markdown",
   "id": "6d3674b3-f768-4392-a681-9a21b332f3f2",
   "metadata": {},
   "source": [
    "In this notebook, Data Science Tools and Ecosystem are summarized."
   ]
  },
  {
   "cell_type": "markdown",
   "id": "2685888a-5c24-4f47-95ae-f8803dae85e7",
   "metadata": {},
   "source": [
    "Some of the popular languages that Data Scientists use are:\n",
    "\n",
    "1. Python  \n",
    "2. R  \n",
    "3. SQL  \n",
    "4. Julia  \n",
    "5. Java"
   ]
  },
  {
   "cell_type": "markdown",
   "id": "8a2ea297-3e8d-4519-b135-abfe52fbf4c5",
   "metadata": {},
   "source": [
    "Some of the commonly used libraries used by Data Scientists include:\n",
    "\n",
    "1. NumPy  \n",
    "2. Pandas  \n",
    "3. Matplotlib  \n",
    "4. Scikit-learn  \n",
    "5. TensorFlow  \n",
    "6. ggplot2"
   ]
  },
  {
   "cell_type": "markdown",
   "id": "6c8c07f1-6167-4ba8-a3a5-af556dfa65d8",
   "metadata": {},
   "source": [
    "| Data Science Tools          |\n",
    "|-----------------------------|\n",
    "| Jupyter Notebook            |\n",
    "| RStudio                     |\n",
    "| Apache Zeppelin             |"
   ]
  },
  {
   "cell_type": "markdown",
   "id": "080e281f-c3eb-421b-a138-d67ede574c01",
   "metadata": {},
   "source": [
    "### Below are a few examples of evaluating arithmetic expressions in Python."
   ]
  },
  {
   "cell_type": "code",
   "execution_count": 2,
   "id": "be15b320-689b-40f3-91df-afcfde12e442",
   "metadata": {},
   "outputs": [
    {
     "data": {
      "text/plain": [
       "17"
      ]
     },
     "execution_count": 2,
     "metadata": {},
     "output_type": "execute_result"
    }
   ],
   "source": [
    "# This is a simple arithmetic expression to multiply then add integers\n",
    "result = (3 * 4) + 5\n",
    "result"
   ]
  },
  {
   "cell_type": "code",
   "execution_count": 3,
   "id": "a5f0a414-ca1d-43d9-adfb-c9e89df3a646",
   "metadata": {},
   "outputs": [
    {
     "data": {
      "text/plain": [
       "3.3333333333333335"
      ]
     },
     "execution_count": 3,
     "metadata": {},
     "output_type": "execute_result"
    }
   ],
   "source": [
    "# This will convert 200 minutes to hours by dividing by 60\n",
    "hours = 200 / 60\n",
    "hours"
   ]
  },
  {
   "cell_type": "markdown",
   "id": "9de5ad46-036b-499c-8bee-04276293e253",
   "metadata": {},
   "source": [
    "**Objectives:**\n",
    "\n",
    "- List popular languages for Data Science.\n",
    "- Introduce commonly used libraries in Data Science.\n",
    "- Demonstrate basic arithmetic expressions in Python.\n",
    "- Convert minutes to hours using Python.\n",
    "- List some open-source Data Science tools and ecosystems."
   ]
  },
  {
   "cell_type": "markdown",
   "id": "8de4bed5-ba44-433d-a895-41d1b64816e6",
   "metadata": {},
   "source": [
    "## Author\n",
    "Akshat Chauhan"
   ]
  },
  {
   "cell_type": "code",
   "execution_count": null,
   "id": "1438215f-fd0e-4701-a4eb-9593bf6cf855",
   "metadata": {},
   "outputs": [],
   "source": []
  }
 ],
 "metadata": {
  "kernelspec": {
   "display_name": "Python 3 (ipykernel)",
   "language": "python",
   "name": "python3"
  },
  "language_info": {
   "codemirror_mode": {
    "name": "ipython",
    "version": 3
   },
   "file_extension": ".py",
   "mimetype": "text/x-python",
   "name": "python",
   "nbconvert_exporter": "python",
   "pygments_lexer": "ipython3",
   "version": "3.11.9"
  }
 },
 "nbformat": 4,
 "nbformat_minor": 5
}
